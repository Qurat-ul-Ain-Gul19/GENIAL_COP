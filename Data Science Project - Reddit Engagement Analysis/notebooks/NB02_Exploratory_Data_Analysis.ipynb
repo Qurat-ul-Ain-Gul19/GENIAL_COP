{
  "nbformat": 4,
  "nbformat_minor": 0,
  "metadata": {
    "colab": {
      "provenance": []
    },
    "kernelspec": {
      "name": "python3",
      "display_name": "Python 3"
    },
    "language_info": {
      "name": "python"
    }
  },
  "cells": [
    {
      "cell_type": "markdown",
      "source": [
        "# NB02 – Exploratory Data Analysis\n",
        "\n",
        "**Research Question:** How does post engagement (score, comments) differ across r/technology, r/Futurology, and r/science?\n",
        "\n",
        "**AI Prompt 1:**  \n",
        "> “Write a short summary of my research question for Reddit engagement exploring differences in score and comments among three tech/science subreddits.”  \n",
        "**AI Response:** “…”  \n",
        "**Refinement:** “…”  \n",
        "**Commit:** “Added polished research question after AI feedback.”\n"
      ],
      "metadata": {
        "id": "jYE694LENg0b"
      }
    },
    {
      "cell_type": "markdown",
      "source": [
        "**2. Install Dependencies & Connect to Database**"
      ],
      "metadata": {
        "id": "-Yf1DqjdNlJJ"
      }
    },
    {
      "cell_type": "code",
      "source": [
        "!pip install pandas matplotlib seaborn --quiet\n",
        "\n",
        "import pandas as pd\n",
        "import sqlite3\n"
      ],
      "metadata": {
        "id": "Zfue1LW5NlsR"
      },
      "execution_count": 1,
      "outputs": []
    },
    {
      "cell_type": "markdown",
      "source": [
        "**AI Prompt 2:**  \n",
        "> “Generate code to connect to a local SQLite database and list all table names.”  \n",
        "**AI Response:** “…”  \n",
        "**Refinement & Reasoning:** Adjusted for correct path and pandas compatibility.  \n",
        "**Commit:** “Added DB connection and table listing via AI-suggested snippet.”\n"
      ],
      "metadata": {
        "id": "F5eOKM9fNxZh"
      }
    },
    {
      "cell_type": "code",
      "execution_count": 5,
      "metadata": {
        "colab": {
          "base_uri": "https://localhost:8080/"
        },
        "id": "X7FdFpZONUq5",
        "outputId": "9bac52f3-634c-43a6-e7b6-18ebf8d100fa"
      },
      "outputs": [
        {
          "output_type": "stream",
          "name": "stdout",
          "text": [
            "         name\n",
            "0  SUBREDDITS\n",
            "1       POSTS\n",
            "2    COMMENTS\n"
          ]
        }
      ],
      "source": [
        "import os\n",
        "import sqlite3\n",
        "import pandas as pd\n",
        "\n",
        "database_dir = \"data\"  # Directory containing the database\n",
        "database_filename = \"database.db\" # Name of the database file\n",
        "conn = sqlite3.connect(os.path.join(database_dir, database_filename))\n",
        "\n",
        "# List tables\n",
        "tables = pd.read_sql(\"SELECT name FROM sqlite_master WHERE type='table';\", conn)\n",
        "print(tables)"
      ]
    },
    {
      "cell_type": "markdown",
      "source": [
        "**3. Query Data into DataFrames**"
      ],
      "metadata": {
        "id": "HkDpTBlUQPLB"
      }
    },
    {
      "cell_type": "markdown",
      "source": [
        "**AI Prompt 3:**  \n",
        "> “Write pandas.read_sql code to fetch all columns from SUBREDDITS, POSTS, and COMMENTS.”  \n",
        "**AI Response:** “…”  \n",
        "**Commit:** “Added data loading from DB using AI-generated code.”\n"
      ],
      "metadata": {
        "id": "fg2zyXDnQSxu"
      }
    },
    {
      "cell_type": "code",
      "source": [
        "df_sub = pd.read_sql(\"SELECT * FROM SUBREDDITS;\", conn, parse_dates={\"created_utc\": {\"unit\": \"s\"}})\n",
        "df_posts = pd.read_sql(\"SELECT * FROM POSTS;\", conn, parse_dates={\"created_utc\": {\"unit\": \"s\"}})\n",
        "df_comments = pd.read_sql(\"SELECT * FROM COMMENTS;\", conn, parse_dates={\"created_utc\": {\"unit\": \"s\"}})\n",
        "\n",
        "print(df_sub.shape, df_posts.shape, df_comments.shape)\n",
        "conn.close()\n"
      ],
      "metadata": {
        "colab": {
          "base_uri": "https://localhost:8080/"
        },
        "id": "QED1VtUqN7Ir",
        "outputId": "d5770830-6a20-4bab-9f54-230903118f23"
      },
      "execution_count": 6,
      "outputs": [
        {
          "output_type": "stream",
          "name": "stdout",
          "text": [
            "(3, 5) (300, 8) (3279, 6)\n"
          ]
        }
      ]
    },
    {
      "cell_type": "code",
      "source": [],
      "metadata": {
        "id": "aKLgCSP8QRCA"
      },
      "execution_count": null,
      "outputs": []
    }
  ]
}