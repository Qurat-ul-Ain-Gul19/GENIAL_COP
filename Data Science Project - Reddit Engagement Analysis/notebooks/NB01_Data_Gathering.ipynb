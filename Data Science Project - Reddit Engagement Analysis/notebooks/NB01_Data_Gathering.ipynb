{
  "nbformat": 4,
  "nbformat_minor": 0,
  "metadata": {
    "colab": {
      "provenance": []
    },
    "kernelspec": {
      "name": "python3",
      "display_name": "Python 3"
    },
    "language_info": {
      "name": "python"
    }
  },
  "cells": [
    {
      "cell_type": "markdown",
      "source": [
        "# NB01 – Data Gathering\n",
        "**Project Question:** Example: *How does post engagement (score, comments) vary across r/technology, r/Futurology, and r/science?*\n",
        "\n",
        "**AI Prompt 1:**  \n",
        "> “Suggest a concise way to phrase my research question about Reddit engagement differences between subreddits.”  \n",
        "**AI Response:** “...”  \n",
        "**Refinement:** “...”  \n",
        "**Commit:** “Added project question after AI‑aided refinement.”\n"
      ],
      "metadata": {
        "id": "P07mx665GrpW"
      }
    },
    {
      "cell_type": "markdown",
      "source": [
        "🔐 2. Install Dependencies & Handle Secrets keys"
      ],
      "metadata": {
        "id": "lETYc78QG1Pb"
      }
    },
    {
      "cell_type": "code",
      "source": [
        "from google.colab import userdata\n",
        "import os\n",
        "!pip install praw --quiet\n",
        "import praw\n",
        "\n",
        "os.environ[\"REDDIT_CLIENT_ID\"] = userdata.get(\"REDDIT_CLIENT_ID\")\n",
        "os.environ[\"REDDIT_CLIENT_SECRET\"] = userdata.get(\"REDDIT_CLIENT_SECRET\")\n",
        "os.environ[\"REDDIT_USERNAME\"] = userdata.get(\"REDDIT_USERNAME\")\n",
        "os.environ[\"REDDIT_PASSWORD\"] = userdata.get(\"REDDIT_PASSWORD\")\n",
        "\n",
        "# Now use os.getenv in your PRAW setup\n"
      ],
      "metadata": {
        "id": "RknX41LkFme1"
      },
      "execution_count": 1,
      "outputs": []
    },
    {
      "cell_type": "markdown",
      "source": [
        "*AI Prompt 2*\n",
        "\n",
        " “Write code to set Reddit credentials from Colab Secrets into environment variables”\n",
        "[Include AI response here and any adjustments]"
      ],
      "metadata": {
        "id": "re2YZh8yHBZc"
      }
    },
    {
      "cell_type": "code",
      "source": [
        "reddit = praw.Reddit(\n",
        "    client_id=os.getenv(\"REDDIT_CLIENT_ID\"),\n",
        "    client_secret=os.getenv(\"REDDIT_CLIENT_SECRET\"),\n",
        "    user_agent=\"DS105 Project by /u/\" + os.getenv(\"REDDIT_USERNAME\"),\n",
        "    username=os.getenv(\"REDDIT_USERNAME\"),\n",
        "    password=os.getenv(\"REDDIT_PASSWORD\")\n",
        ")\n",
        "\n",
        "print(\"Read-only?\", reddit.read_only)\n",
        "# Retrieve 5 hot posts from r/python\n",
        "for post in reddit.subreddit(\"python\").hot(limit=5):\n",
        "    print(post.title, post.score)\n"
      ],
      "metadata": {
        "colab": {
          "base_uri": "https://localhost:8080/"
        },
        "id": "_GSTtN5XEHKh",
        "outputId": "26c49dca-a7aa-4743-8905-edf40d823b8b"
      },
      "execution_count": 3,
      "outputs": [
        {
          "output_type": "stream",
          "name": "stdout",
          "text": [
            "\u001b[?25l   \u001b[90m━━━━━━━━━━━━━━━━━━━━━━━━━━━━━━━━━━━━━━━━\u001b[0m \u001b[32m0.0/189.3 kB\u001b[0m \u001b[31m?\u001b[0m eta \u001b[36m-:--:--\u001b[0m\r\u001b[2K   \u001b[90m━━━━━━━━━━━━━━━━━━━━━━━━━━━━━━━━━━━━━━━━\u001b[0m \u001b[32m189.3/189.3 kB\u001b[0m \u001b[31m8.2 MB/s\u001b[0m eta \u001b[36m0:00:00\u001b[0m\n",
            "\u001b[?25h"
          ]
        },
        {
          "output_type": "stream",
          "name": "stderr",
          "text": [
            "WARNING:praw:It appears that you are using PRAW in an asynchronous environment.\n",
            "It is strongly recommended to use Async PRAW: https://asyncpraw.readthedocs.io.\n",
            "See https://praw.readthedocs.io/en/latest/getting_started/multiple_instances.html#discord-bots-and-asynchronous-environments for more info.\n",
            "\n"
          ]
        },
        {
          "output_type": "stream",
          "name": "stdout",
          "text": [
            "Read-only? False\n",
            "Sunday Daily Thread: What's everyone working on this week? 9\n",
            "Saturday Daily Thread: Resource Request and Sharing! Daily Thread 3\n",
            "Premier: Instantly Turn Your ASGI App into an API Gateway 8\n",
            "Building an ERP: ready-made platforms vs custom development 2\n",
            "New in coding world. Need recommendations of tutorials for python in finance. 2\n"
          ]
        }
      ]
    },
    {
      "cell_type": "markdown",
      "source": [
        "⚙️ 3. Authenticate PRAW"
      ],
      "metadata": {
        "id": "-LitrUIHHACN"
      }
    },
    {
      "cell_type": "code",
      "source": [
        "import praw\n",
        "\n",
        "reddit = praw.Reddit(\n",
        "    client_id=os.getenv(\"REDDIT_CLIENT_ID\"),\n",
        "    client_secret=os.getenv(\"REDDIT_CLIENT_SECRET\"),\n",
        "    user_agent=\"ds105:reddit.engagement.analysis:v1 (by /u/\" + os.getenv(\"REDDIT_USERNAME\") + \")\",\n",
        "    username=os.getenv(\"REDDIT_USERNAME\"),\n",
        "    password=os.getenv(\"REDDIT_PASSWORD\"),\n",
        ")\n",
        "\n",
        "print(\"Authenticated:\", not reddit.read_only)\n"
      ],
      "metadata": {
        "colab": {
          "base_uri": "https://localhost:8080/"
        },
        "id": "HZKSo-hDEHNI",
        "outputId": "5219cc9e-207f-4833-fcb8-e19e6eb8c681"
      },
      "execution_count": 4,
      "outputs": [
        {
          "output_type": "stream",
          "name": "stdout",
          "text": [
            "Authenticated: True\n"
          ]
        }
      ]
    },
    {
      "cell_type": "code",
      "source": [],
      "metadata": {
        "id": "rtRecXN-EHQj"
      },
      "execution_count": null,
      "outputs": []
    }
  ]
}